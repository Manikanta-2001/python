{
 "cells": [
  {
   "cell_type": "markdown",
   "id": "f2351656",
   "metadata": {},
   "source": [
    "# welcome\n",
    "## welcome\n",
    "### welcome\n",
    "#### welcome\n",
    "##### welcome\n",
    "###### welcome\n",
    "    "
   ]
  },
  {
   "cell_type": "markdown",
   "id": "7960eb9f",
   "metadata": {},
   "source": [
    "**apssdc**"
   ]
  },
  {
   "cell_type": "markdown",
   "id": "4b4d14fd",
   "metadata": {},
   "source": [
    "*apssdc*"
   ]
  },
  {
   "cell_type": "markdown",
   "id": "d124362e",
   "metadata": {},
   "source": [
    "***apssdc***"
   ]
  },
  {
   "cell_type": "markdown",
   "id": "21399735",
   "metadata": {},
   "source": [
    "i am from apssdc first line\n",
    "i am manikanta second line\n",
    "i am python programming thirdline\n"
   ]
  },
  {
   "cell_type": "markdown",
   "id": "5b21cac5",
   "metadata": {},
   "source": [
    "+ one  \n",
    "- two  \n",
    "+ three  \n",
    "* four  \n",
    "    + five  \n",
    "    - six  \n",
    "    * seven  \n",
    "        + eight  \n",
    "        - nine  \n",
    "        * zero  \n"
   ]
  },
  {
   "cell_type": "markdown",
   "id": "75a750d1",
   "metadata": {},
   "source": [
    "### order list and sub list"
   ]
  },
  {
   "cell_type": "markdown",
   "id": "9badf958",
   "metadata": {},
   "source": [
    "1. gfhgvtvvh\n",
    "2. fysdsfycysdt\n",
    "3. uftgyugbhj\n",
    "    4. hdgyfsdcfgyv\n",
    "    5. gyjddfhu\n",
    "    6. jfdghh\n",
    "        7. shdfsd\n",
    "        8. hfsdhdfg"
   ]
  },
  {
   "cell_type": "markdown",
   "id": "8f5bdb48",
   "metadata": {},
   "source": [
    "### commends\n",
    "- user readable information or data\n",
    "- comment doesnot exicute\n",
    "- it is mentioned in '#'\n",
    "- for muntiple line comment mention in the formation of \"\".\n"
   ]
  },
  {
   "cell_type": "markdown",
   "id": "0dd52bc5",
   "metadata": {},
   "source": [
    "### veriable"
   ]
  },
  {
   "cell_type": "markdown",
   "id": "439ffb0f",
   "metadata": {},
   "source": [
    "- which is used to storing data\n",
    "- variable start with char,underscore\n",
    "- variable could not start with numbers,special symbols,keywords"
   ]
  },
  {
   "cell_type": "markdown",
   "id": "e42a5aae",
   "metadata": {},
   "source": [
    "### DATA TYPES"
   ]
  },
  {
   "cell_type": "markdown",
   "id": "2cf313c9",
   "metadata": {},
   "source": [
    "- int(all integer values)\n",
    "- float(integer with decimal point)\n",
    "- str(combination of characters or group of characters)\n",
    "- complex(number with real and imaginary part)\n",
    "- boolean(true,false)\n",
    "\n"
   ]
  },
  {
   "cell_type": "code",
   "execution_count": 3,
   "id": "d71f5a2e",
   "metadata": {},
   "outputs": [],
   "source": [
    "a=765\n",
    "b=54.67\n",
    "c=\"apssdc\"\n",
    "d='p'\n",
    "e=1+2j\n",
    "f='1+2j'\n",
    "g=True"
   ]
  },
  {
   "cell_type": "code",
   "execution_count": 4,
   "id": "de6f1675",
   "metadata": {},
   "outputs": [
    {
     "name": "stdout",
     "output_type": "stream",
     "text": [
      "<class 'int'>\n",
      "<class 'float'>\n",
      "<class 'str'>\n",
      "<class 'str'>\n",
      "<class 'complex'>\n",
      "<class 'str'>\n"
     ]
    }
   ],
   "source": [
    "print(type(a))\n",
    "print(type(b))\n",
    "print(type(c))\n",
    "print(type(d))\n",
    "print(type(e))\n",
    "print(type(f))\n"
   ]
  },
  {
   "cell_type": "markdown",
   "id": "d88295f3",
   "metadata": {},
   "source": [
    "### type casting\n",
    "\n"
   ]
  },
  {
   "cell_type": "markdown",
   "id": "303f2093",
   "metadata": {},
   "source": [
    "- which convert the one data type to onther data type\n"
   ]
  },
  {
   "cell_type": "code",
   "execution_count": null,
   "id": "8a8ee421",
   "metadata": {},
   "outputs": [],
   "source": [
    "_abc=458\n",
    "print(type(_abc))\n",
    "print()\n"
   ]
  },
  {
   "cell_type": "code",
   "execution_count": 5,
   "id": "b136e604",
   "metadata": {},
   "outputs": [
    {
     "ename": "NameError",
     "evalue": "name 'abc' is not defined",
     "output_type": "error",
     "traceback": [
      "\u001b[1;31m---------------------------------------------------------------------------\u001b[0m",
      "\u001b[1;31mNameError\u001b[0m                                 Traceback (most recent call last)",
      "\u001b[1;32m~\\AppData\\Local\\Temp/ipykernel_872/3789439297.py\u001b[0m in \u001b[0;36m<module>\u001b[1;34m\u001b[0m\n\u001b[1;32m----> 1\u001b[1;33m \u001b[0mz\u001b[0m\u001b[1;33m=\u001b[0m\u001b[0mint\u001b[0m\u001b[1;33m(\u001b[0m\u001b[0mabc\u001b[0m\u001b[1;33m)\u001b[0m\u001b[1;33m\u001b[0m\u001b[1;33m\u001b[0m\u001b[0m\n\u001b[0m\u001b[0;32m      2\u001b[0m \u001b[0mprint\u001b[0m\u001b[1;33m(\u001b[0m\u001b[0mtype\u001b[0m\u001b[1;33m(\u001b[0m\u001b[0mz\u001b[0m\u001b[1;33m)\u001b[0m\u001b[1;33m)\u001b[0m\u001b[1;33m\u001b[0m\u001b[1;33m\u001b[0m\u001b[0m\n\u001b[0;32m      3\u001b[0m \u001b[0mprint\u001b[0m\u001b[1;33m(\u001b[0m\u001b[0mz\u001b[0m\u001b[1;33m)\u001b[0m\u001b[1;33m\u001b[0m\u001b[1;33m\u001b[0m\u001b[0m\n",
      "\u001b[1;31mNameError\u001b[0m: name 'abc' is not defined"
     ]
    }
   ],
   "source": [
    "z=int(abc)\n",
    "print(type(z))\n",
    "print(z)"
   ]
  },
  {
   "cell_type": "code",
   "execution_count": 8,
   "id": "5007d663",
   "metadata": {},
   "outputs": [
    {
     "name": "stdout",
     "output_type": "stream",
     "text": [
      "<class 'int'>\n",
      "12344567\n"
     ]
    }
   ],
   "source": [
    "abc=\"12344567\"\n",
    "z=int(abc)\n",
    "print(type(z))\n",
    "print(z)"
   ]
  },
  {
   "cell_type": "code",
   "execution_count": 10,
   "id": "4989ce2d",
   "metadata": {},
   "outputs": [
    {
     "name": "stdout",
     "output_type": "stream",
     "text": [
      "<class 'float'>\n"
     ]
    },
    {
     "ename": "NameError",
     "evalue": "name 'Z' is not defined",
     "output_type": "error",
     "traceback": [
      "\u001b[1;31m---------------------------------------------------------------------------\u001b[0m",
      "\u001b[1;31mNameError\u001b[0m                                 Traceback (most recent call last)",
      "\u001b[1;32m~\\AppData\\Local\\Temp/ipykernel_872/221738273.py\u001b[0m in \u001b[0;36m<module>\u001b[1;34m\u001b[0m\n\u001b[0;32m      1\u001b[0m \u001b[0mz\u001b[0m\u001b[1;33m=\u001b[0m\u001b[0mfloat\u001b[0m\u001b[1;33m(\u001b[0m\u001b[0mabc\u001b[0m\u001b[1;33m)\u001b[0m\u001b[1;33m\u001b[0m\u001b[1;33m\u001b[0m\u001b[0m\n\u001b[0;32m      2\u001b[0m \u001b[0mprint\u001b[0m\u001b[1;33m(\u001b[0m\u001b[0mtype\u001b[0m\u001b[1;33m(\u001b[0m\u001b[0mz\u001b[0m\u001b[1;33m)\u001b[0m\u001b[1;33m)\u001b[0m\u001b[1;33m\u001b[0m\u001b[1;33m\u001b[0m\u001b[0m\n\u001b[1;32m----> 3\u001b[1;33m \u001b[0mprint\u001b[0m\u001b[1;33m(\u001b[0m\u001b[0mZ\u001b[0m\u001b[1;33m)\u001b[0m\u001b[1;33m\u001b[0m\u001b[1;33m\u001b[0m\u001b[0m\n\u001b[0m",
      "\u001b[1;31mNameError\u001b[0m: name 'Z' is not defined"
     ]
    }
   ],
   "source": [
    "z=float(abc)\n",
    "print(type(z))\n",
    "print(Z)"
   ]
  },
  {
   "cell_type": "code",
   "execution_count": null,
   "id": "911721c2",
   "metadata": {},
   "outputs": [],
   "source": []
  },
  {
   "cell_type": "code",
   "execution_count": null,
   "id": "5d8d76e7",
   "metadata": {},
   "outputs": [],
   "source": []
  },
  {
   "cell_type": "code",
   "execution_count": null,
   "id": "dfc65e6c",
   "metadata": {},
   "outputs": [],
   "source": []
  },
  {
   "cell_type": "code",
   "execution_count": null,
   "id": "1767b595",
   "metadata": {},
   "outputs": [],
   "source": []
  }
 ],
 "metadata": {
  "kernelspec": {
   "display_name": "Python 3 (ipykernel)",
   "language": "python",
   "name": "python3"
  },
  "language_info": {
   "codemirror_mode": {
    "name": "ipython",
    "version": 3
   },
   "file_extension": ".py",
   "mimetype": "text/x-python",
   "name": "python",
   "nbconvert_exporter": "python",
   "pygments_lexer": "ipython3",
   "version": "3.9.7"
  }
 },
 "nbformat": 4,
 "nbformat_minor": 5
}
